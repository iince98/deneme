{
 "cells": [
  {
   "cell_type": "code",
   "execution_count": null,
   "metadata": {},
   "outputs": [],
   "source": [
    "import pandas as pd\n",
    "import numpy as np\n",
    "import matplotlib.pyplot as plt\n",
    "from pprint import pprint\n",
    "import missingno\n",
    "import pandas_profiling as pp\n",
    "import re # regular expressions"
   ]
  },
  {
   "cell_type": "code",
   "execution_count": null,
   "metadata": {},
   "outputs": [],
   "source": [
    "!pip install pandas_profiling # basina \"!\" isareti koyarak paket indirebiliriz"
   ]
  },
  {
   "cell_type": "code",
   "execution_count": null,
   "metadata": {},
   "outputs": [],
   "source": [
    "# Setting up inline plotting using jupyter notebook \"magic\"\n",
    "%matplotlib inline # sadece jupiter icin gecerli. plt.show() yazmaya gerek yok artik.\n",
    "\n",
    "# With this magic in place, all plots created in code cells will automatically be displayed inline."
   ]
  },
  {
   "cell_type": "code",
   "execution_count": null,
   "metadata": {},
   "outputs": [],
   "source": [
    "# Dataframe de tum sutunlari gostermek, maksimum sutun sayisini belirlemek\n",
    "pd.set_option(\"display.max_columns\", None)\n",
    "pd.set_option('display.max_colwidth', -1)  # Display all values\n",
    "pd.set_option('display.max_rows', 50) # gosterilecek satir sayisini belirlemek"
   ]
  },
  {
   "cell_type": "markdown",
   "metadata": {},
   "source": [
    "# 🔸 ~ DATA SET DOSYALARI ~ 🔸"
   ]
  },
  {
   "cell_type": "code",
   "execution_count": null,
   "metadata": {},
   "outputs": [],
   "source": [
    "titanic = pd.read_csv('C:\\\\Users\\\\ihbay\\\\Desktop\\\\DATA SETS\\\\titanic.csv')"
   ]
  },
  {
   "cell_type": "code",
   "execution_count": null,
   "metadata": {},
   "outputs": [],
   "source": [
    "estate = pd.read_csv('C:\\\\Users\\\\ihbay\\\\Desktop\\\\DATA SETS\\\\hurriyetemlak_dirty.csv')"
   ]
  },
  {
   "cell_type": "code",
   "execution_count": null,
   "metadata": {},
   "outputs": [],
   "source": [
    "medal = pd.read_csv('C:\\\\Users\\\\ihbay\\\\Desktop\\\\DATA SETS\\\\all_medalists.csv')"
   ]
  },
  {
   "cell_type": "code",
   "execution_count": null,
   "metadata": {},
   "outputs": [],
   "source": [
    "# listeleri goze daha hos gozukecek sekilde yazdirir\n",
    "products = ['sofas', 'convertible sofas', 'love seats', 'recliners', 'sofa beds', 'sofas', 'convertible sofas', \n",
    "            'love seats', 'recliners', 'sofa beds', 'sofas', 'convertible sofas', 'love seats', 'recliners', 'sofa beds']\n",
    "from pprint import pprint\n",
    "pprint(products)"
   ]
  },
  {
   "cell_type": "code",
   "execution_count": null,
   "metadata": {},
   "outputs": [],
   "source": [
    "# eksik degerleri grafikte gostermek\n",
    "missingno.matrix(titanic, figsize = (30,10)) # figsize: The size of the figure to display"
   ]
  },
  {
   "cell_type": "code",
   "execution_count": null,
   "metadata": {},
   "outputs": [],
   "source": [
    "# hangi sutundan kac tane veri eksik oldugunu dongu ile bulmak\n",
    "missing_vals = {}\n",
    "titanic_length = len(titanic)\n",
    "for column in titanic.columns:\n",
    "    total_column_values = titanic[column].value_counts().sum()\n",
    "    missing_vals[column] = titanic_length-total_column_values\n",
    "missing_vals"
   ]
  },
  {
   "cell_type": "code",
   "execution_count": null,
   "metadata": {},
   "outputs": [],
   "source": [
    "# hangi sutundan kac tane veri eksik oldugunu kisaca bulmak\n",
    "titanic.isnull().sum()"
   ]
  },
  {
   "cell_type": "code",
   "execution_count": null,
   "metadata": {},
   "outputs": [],
   "source": [
    "titanic[\"sex\"]=titanic[\"sex\"].str.replace(\"man\", \"wo\")\n",
    "titanic[\"cabin\"]=titanic[\"cabin\"].str.replace('\\d+', '') # tum sayilari yer degistiriyor"
   ]
  },
  {
   "cell_type": "code",
   "execution_count": null,
   "metadata": {},
   "outputs": [],
   "source": [
    "# tekrar eden satirlari silme\n",
    "titanic.drop_duplicates(inplace=True)"
   ]
  },
  {
   "cell_type": "code",
   "execution_count": null,
   "metadata": {},
   "outputs": [],
   "source": [
    "titanic.shape"
   ]
  },
  {
   "cell_type": "code",
   "execution_count": null,
   "metadata": {},
   "outputs": [],
   "source": [
    "# farkli sutunlari secerek ayni cins degerlerin \"ortalamalarini\" alarak yeni bir dataframe olusturmak\n",
    "titanic.pivot_table (index='age', columns='sex') \n",
    "\n",
    "# eger pazantez icinde values='fare' seklinde bir sutunu secersek sadece o bilgileri gosterir\n",
    "# aggfunc='count' frekans tablosunu verirr. yani ayni cins degerlein ortalamasini almak yerine kac tane olduklarini verir.\n",
    "# margins=True, aggfunc=sum  degerlerin toplamini verir"
   ]
  },
  {
   "cell_type": "code",
   "execution_count": null,
   "metadata": {},
   "outputs": [],
   "source": [
    "# pivot table ile karmasik tablolar olusturmak\n",
    "titanic = medal.pivot_table(index='NOC', values='Athlete', columns='Medal', aggfunc='count')\n",
    "\n",
    "# satirlari toplayip yeni bir sutun olusturmak\n",
    "titanic['totals'] = titanic.sum(axis='columns')\n",
    "\n",
    "# dataframe i bir sutunu baz alarak siraya sokmak\n",
    "titanic.sort_values(by='totals', ascending=False)"
   ]
  },
  {
   "cell_type": "code",
   "execution_count": null,
   "metadata": {},
   "outputs": [],
   "source": [
    "# 've' kosulunu kullanarak ilgili satirlari bulmak\n",
    "medal[(medal.Event_gender == 'W')& (medal.Gender == 'Men')]"
   ]
  },
  {
   "cell_type": "code",
   "execution_count": null,
   "metadata": {},
   "outputs": [],
   "source": [
    "# iki sutun secerek ayni satirdaki tekrarlari tespit etmek\n",
    "medal[['Event_gender', 'Gender']].drop_duplicates()"
   ]
  },
  {
   "cell_type": "code",
   "execution_count": null,
   "metadata": {},
   "outputs": [],
   "source": [
    "# ulkelerin ozgun sporlardan kac tanesinden madalya aldiklarinin sayisini bulma\n",
    "medal.groupby('NOC').Sport.nunique().sort_values(ascending=False)"
   ]
  },
  {
   "cell_type": "code",
   "execution_count": null,
   "metadata": {},
   "outputs": [],
   "source": [
    "# farkli kosullarda gruplama yapmak ve ozgun degere gore siralamak\n",
    "country = medal.loc[((medal.Edition <= 1988) &  (medal.Edition >= 1952)) & medal.NOC.isin(['USA', 'URS'])].groupby('NOC')\n",
    "country.Sport.nunique().sort_values(ascending=False)"
   ]
  },
  {
   "cell_type": "code",
   "execution_count": null,
   "metadata": {},
   "outputs": [],
   "source": [
    "# bir sutunda yer alan sadece bir degere ait tum verileri listelemek \n",
    "medal[medal.NOC == 'TUR']"
   ]
  },
  {
   "cell_type": "code",
   "execution_count": null,
   "metadata": {},
   "outputs": [],
   "source": [
    "# alinan madalyalara gore cubuk grafigi cizme\n",
    "medals = medal[medal.NOC == 'TUR'].groupby(['Edition', 'Medal'])['Athlete'].count()\n",
    "\n",
    "# simdi grafigi cizebilmek icin 'unstack' metodu ile madalyalari sutunlara dagitacagiz\n",
    "medals = medals.unstack(level='Medal')\n",
    "\n",
    "medals.plot()\n",
    "medals.plot.area()\n",
    "plt.show()\n"
   ]
  },
  {
   "cell_type": "code",
   "execution_count": null,
   "metadata": {},
   "outputs": [],
   "source": [
    "medal.drop_duplicates()"
   ]
  },
  {
   "cell_type": "code",
   "execution_count": null,
   "metadata": {},
   "outputs": [],
   "source": [
    "titanic.info()"
   ]
  },
  {
   "cell_type": "code",
   "execution_count": null,
   "metadata": {},
   "outputs": [],
   "source": [
    "# deger cesidini category yapmak daha az yer kaplar ve daha hizli islem yapilir.\n",
    "titanic['sex'] = titanic['sex'].astype('category')"
   ]
  },
  {
   "cell_type": "code",
   "execution_count": null,
   "metadata": {},
   "outputs": [],
   "source": [
    "# bir sutundaki ozgun degerleri tespit etmek. \n",
    "titanic['sex'].unique()"
   ]
  },
  {
   "cell_type": "code",
   "execution_count": null,
   "metadata": {},
   "outputs": [],
   "source": [
    "# sutunlardaki degerlerin sayilari, ortalamalarini veya toplamlarini belli degerlere gore gruplandirmak\n",
    "titanic.groupby('sex')[['age', 'survived']].mean() \n",
    "\n",
    "# en sona sum() yazarak toplamlari veya mean() ile ortalamalari alinabilir\n",
    "# mean() ozelligi ile degerlerin yuzdesi hesaplanabilir. ornekte erkeklerin yaklasik sadece % 20 si kurtulmus.\n",
    "# max() ile en buyuk degerlere ulasilabilir"
   ]
  },
  {
   "cell_type": "code",
   "execution_count": null,
   "metadata": {},
   "outputs": [],
   "source": [
    "# gruplandirdiktan sonra birden fazla ozelligi uygulayabiliriz\n",
    "titanic.groupby('sex')[['age', 'survived']].agg(['max', 'count', 'mean'])"
   ]
  },
  {
   "cell_type": "code",
   "execution_count": null,
   "metadata": {},
   "outputs": [],
   "source": [
    "# dataframe de birden fazla index varsa \"level\" ozelligi kullanilir\n",
    "titanic.groupby(level=['age','sex'])"
   ]
  },
  {
   "cell_type": "code",
   "execution_count": null,
   "metadata": {},
   "outputs": [],
   "source": [
    "titanic.groupby('age').count()"
   ]
  },
  {
   "cell_type": "markdown",
   "metadata": {},
   "source": [
    "# 🔸 ~ DATA FRAME INDEX ISLEMLERI ~ 🔸"
   ]
  },
  {
   "cell_type": "code",
   "execution_count": null,
   "metadata": {},
   "outputs": [],
   "source": [
    "# data frame de index degistirme. \n",
    "titanic.index  \n",
    "# data frame de index olarak 0 dan baslayan sayilari atama\n",
    "titanic.index = range(len(titanic)) # data frame de tek bir indexi degistirmezsin. tumunu birden degistirmek gerekir. "
   ]
  },
  {
   "cell_type": "code",
   "execution_count": null,
   "metadata": {},
   "outputs": [],
   "source": [
    "# her hangi bir sutunu index olarak atamak \n",
    "titanic.index = titanic.age"
   ]
  },
  {
   "cell_type": "code",
   "execution_count": null,
   "metadata": {},
   "outputs": [],
   "source": [
    "# iki sutunu index olarak atama. (Multi index)\n",
    "titanic = titanic.set_index(['sibsp', 'age'])"
   ]
  },
  {
   "cell_type": "code",
   "execution_count": null,
   "metadata": {},
   "outputs": [],
   "source": [
    "# multi index te ikinci siradaki indexin bir degerini iceren tum satirlari listelemek\n",
    "titanic.loc[(slice(None), 8.00), :]"
   ]
  },
  {
   "cell_type": "code",
   "execution_count": null,
   "metadata": {},
   "outputs": [],
   "source": [
    "# index leri siralamak\n",
    "titanic = titanic.sort_index()"
   ]
  },
  {
   "cell_type": "code",
   "execution_count": null,
   "metadata": {},
   "outputs": [],
   "source": [
    "# data frame de index leri buyuk veya kucuk harf yapma. tek satir komutla...\n",
    "titanic.index = [name.upper()  for name in titanic.index]"
   ]
  },
  {
   "cell_type": "code",
   "execution_count": null,
   "metadata": {},
   "outputs": [],
   "source": [
    "# data frame de index lere veya sutunlara ana baslik atama\n",
    "titanic.index.name = 'NAMES'\n",
    "titanic.columns.name = 'INFO'"
   ]
  },
  {
   "cell_type": "code",
   "execution_count": null,
   "metadata": {},
   "outputs": [],
   "source": [
    "titanic"
   ]
  },
  {
   "cell_type": "code",
   "execution_count": null,
   "metadata": {},
   "outputs": [],
   "source": [
    "# multi index li data frameden istedigimiz satirlari ve sutunlari secmek\n",
    "titanic.loc[(1, 14.00), ('fare', 'body')]"
   ]
  },
  {
   "cell_type": "markdown",
   "metadata": {},
   "source": [
    "# 🔸 ~ DATA FRAME DE HUCRE SECME ~ 🔸"
   ]
  },
  {
   "cell_type": "code",
   "execution_count": null,
   "metadata": {},
   "outputs": [],
   "source": [
    "# sadece bu satir ve sutunlari alir\n",
    "titanic.loc['Allison, Master. Hudson Trevor':'Allison, Mr. Hudson Joshua Creighton', 'sex':'ticket']  "
   ]
  },
  {
   "cell_type": "code",
   "execution_count": null,
   "metadata": {},
   "outputs": [],
   "source": [
    "titanic['sex']['67'] "
   ]
  },
  {
   "cell_type": "code",
   "execution_count": null,
   "metadata": {},
   "outputs": [],
   "source": [
    "titanic.name[67]"
   ]
  },
  {
   "cell_type": "code",
   "execution_count": null,
   "metadata": {},
   "outputs": [],
   "source": [
    "titanic.loc[67, 'name']"
   ]
  },
  {
   "cell_type": "code",
   "execution_count": null,
   "metadata": {},
   "outputs": [],
   "source": [
    "titanic.iloc[67,2]"
   ]
  },
  {
   "cell_type": "code",
   "execution_count": null,
   "metadata": {},
   "outputs": [],
   "source": [
    "titanic[['age', 'sex']].head()  # sadece bu sutunlari getirir"
   ]
  },
  {
   "cell_type": "code",
   "execution_count": null,
   "metadata": {},
   "outputs": [],
   "source": [
    "titanic.iloc[1:6, 2:5]  # belli satir ve sutun araliklarini secmek"
   ]
  },
  {
   "cell_type": "code",
   "execution_count": null,
   "metadata": {},
   "outputs": [],
   "source": [
    "titanic.iloc[[2,4,5], [3,6]] # satir ve sutunlari tek tek de secebiliriz"
   ]
  },
  {
   "cell_type": "code",
   "execution_count": null,
   "metadata": {},
   "outputs": [],
   "source": [
    "titanic[['sex']] # sutunu cift koseli parantez icine alirsak dataframe olusur"
   ]
  },
  {
   "cell_type": "code",
   "execution_count": null,
   "metadata": {},
   "outputs": [],
   "source": [
    "titanic['sex'] # sutunu tek koseli parantez icine alirsak data frame degil, series olusur"
   ]
  },
  {
   "cell_type": "code",
   "execution_count": null,
   "metadata": {},
   "outputs": [],
   "source": [
    " titanic[(titanic.age >= 20) & (titanic.sex == 'male')] # her iki kosulu da saglayan degerler                   "
   ]
  },
  {
   "cell_type": "code",
   "execution_count": null,
   "metadata": {},
   "outputs": [],
   "source": [
    "titanic[(titanic.age >= 20) | (titanic.sex == 'male')] # herhangi bir kosulu saglayan degerler"
   ]
  },
  {
   "cell_type": "code",
   "execution_count": null,
   "metadata": {},
   "outputs": [],
   "source": [
    "titanic.loc[:, titanic.isnull().any()]  # icinde NaN degeri iceren sutunlari getirir. Yani tum degerleri tam olanlari."
   ]
  },
  {
   "cell_type": "code",
   "execution_count": null,
   "metadata": {},
   "outputs": [],
   "source": [
    "titanic.loc[:, titanic.notnull().all()]  #  Hic NaN degeri olmayan sutunlari getirir"
   ]
  },
  {
   "cell_type": "code",
   "execution_count": null,
   "metadata": {},
   "outputs": [],
   "source": [
    "titanic.dropna(how='all', inplace=True) # tum degerleri NaN olan satirlari dataframeden cikarir "
   ]
  },
  {
   "cell_type": "code",
   "execution_count": null,
   "metadata": {},
   "outputs": [],
   "source": [
    "titanic.dropna(how='any', inplace=True) # her hangi bir degeri NaN olan satirlari dataframeden cikarir \n",
    "# inplace=True yapmazsak sadece tespit yapiyor ama dusurmuyor"
   ]
  },
  {
   "cell_type": "code",
   "execution_count": null,
   "metadata": {},
   "outputs": [],
   "source": [
    "titanic.dropna(thresh=6, inplace=True, axis='columns') \n",
    "# 6 tane dolu varsa silme. 6 nin altinda veri bulunuyorsa bir satirda o satiri komple siler\n",
    "# satir ya da sutunlarda belli bir sayinin altinda veri varsa o satir ve sutunlari dataframe den cikarir "
   ]
  },
  {
   "cell_type": "code",
   "execution_count": null,
   "metadata": {},
   "outputs": [],
   "source": [
    "titanic.isna()"
   ]
  },
  {
   "cell_type": "code",
   "execution_count": null,
   "metadata": {},
   "outputs": [],
   "source": [
    "titanic.shape"
   ]
  },
  {
   "cell_type": "code",
   "execution_count": null,
   "metadata": {},
   "outputs": [],
   "source": [
    "# iki dataframe in esit olup olmadigini kontrol etme\n",
    "titanic.equals(users)"
   ]
  },
  {
   "cell_type": "markdown",
   "metadata": {},
   "source": [
    "# 🔸 ~ Data frame de kullanilabilecek faydali metod ve komutlar ~ 🔸"
   ]
  },
  {
   "cell_type": "code",
   "execution_count": null,
   "metadata": {},
   "outputs": [],
   "source": [
    "titanic.head()"
   ]
  },
  {
   "cell_type": "code",
   "execution_count": null,
   "metadata": {},
   "outputs": [],
   "source": [
    "titanic.info()"
   ]
  },
  {
   "cell_type": "code",
   "execution_count": null,
   "metadata": {},
   "outputs": [],
   "source": [
    "titanic.describe(include='all') # parantez icinr include='all' yazarsan numeric disindaki tum degerleri dikkate alir. \n",
    "# tum sutunlari gosterir ve daha detayli bilgi derir."
   ]
  },
  {
   "cell_type": "code",
   "execution_count": null,
   "metadata": {},
   "outputs": [],
   "source": [
    "titanic.describe() # numeric degerleri baz alir."
   ]
  },
  {
   "cell_type": "code",
   "execution_count": null,
   "metadata": {},
   "outputs": [],
   "source": [
    "titanic.columns"
   ]
  },
  {
   "cell_type": "code",
   "execution_count": null,
   "metadata": {},
   "outputs": [],
   "source": [
    "titanic.shape"
   ]
  },
  {
   "cell_type": "code",
   "execution_count": null,
   "metadata": {},
   "outputs": [],
   "source": [
    "titanic.columns.value_counts()"
   ]
  },
  {
   "cell_type": "code",
   "execution_count": null,
   "metadata": {},
   "outputs": [],
   "source": [
    "titanic.dtypes"
   ]
  },
  {
   "cell_type": "code",
   "execution_count": null,
   "metadata": {},
   "outputs": [],
   "source": [
    "# Mevcut durumda bulundugumuz dizinin yolunu/adresini ogrenmek\n",
    "# dosya adrsini yazarken aralara tek '\\' konuldugunda hata veriyor. cift konulmali ya da adresin basina 'r' harfi konulmali.\n",
    "pwd"
   ]
  },
  {
   "cell_type": "code",
   "execution_count": null,
   "metadata": {},
   "outputs": [],
   "source": [
    "# uzerinde calisilan dizini degistirme\n",
    "%cd \"C:\\1.BASAK BURCU\\24. IT\\DATA SCIENCE\""
   ]
  },
  {
   "cell_type": "code",
   "execution_count": null,
   "metadata": {},
   "outputs": [],
   "source": [
    "# bulundugumuz dizindeki tum icerigi listelemek\n",
    "ls "
   ]
  },
  {
   "cell_type": "code",
   "execution_count": null,
   "metadata": {},
   "outputs": [],
   "source": [
    "# birden fazla satırı \"komut dışı\" bırakmak \n",
    "ALT tuşuna basarak  ( Büyük + işareti çıkacaktır)  istediğiniz satırları seçiniz.\n",
    "Daha sonra sol tuşla seçilen satırların soluna gelip \"#\"  işaretini yazınız."
   ]
  },
  {
   "cell_type": "code",
   "execution_count": null,
   "metadata": {},
   "outputs": [],
   "source": [
    "# Listelerden dataframe olusturma\n",
    "# (LISTE => DICTIONARY => DATAFRAME)\n",
    "cities = ['Austin', 'Dallas', 'Austin', 'Dallas']\n",
    "signups = [7, 12, 3, 5]\n",
    "visitors = [139, 237, 326, 456]\n",
    "weekdays = ['Sun', 'Sun', 'Mon', 'Mon']\n",
    "list_labels = ['city', 'signups', 'visitors', 'weekday']\n",
    "\n",
    "# listeleri tek bir listede birlestiriyoruz. her bir liste dataframe de bir sutuna donusecektir.\n",
    "list_cols = [cities, signups, visitors, weekdays]\n",
    "\n",
    "# Liste isimleri (bunlar dataframe de sutun ismi olacaktir.) ile listeleri birlestirip yeni bir liste olusturuyoruz. \n",
    "# Bu yeni liste tuple lardan olusmaktadir. \n",
    "zipped = list(zip(list_labels, list_cols))\n",
    "\n",
    "# Artik son listemizi dictionary ye cevirebiliriz.\n",
    "data = dict(zipped)\n",
    "\n",
    "# Son olarak dictionary yi dataframe ceviriyoruz ve islem tamamlaniyor.  \n",
    "users = pd.DataFrame(data)\n",
    "\n",
    "print(users)\n",
    "data"
   ]
  },
  {
   "cell_type": "code",
   "execution_count": null,
   "metadata": {},
   "outputs": [],
   "source": [
    "# DataFrame de sutun ismini degistirmek\n",
    "gapminder.columns = ['country', 'year', 'life_expectancy']"
   ]
  },
  {
   "cell_type": "code",
   "execution_count": null,
   "metadata": {},
   "outputs": [],
   "source": [
    "# DataFrame deki tum verileri (1.sutun haric) bir fonksiyon araciligi ile kontrol ettirmek.\n",
    "# Fonksiyon degerlerinin >= 0 olup olmadigini kontrol ediyor.\n",
    "assert g1800s.iloc[:, 1:].apply(check_null_or_valid, axis=1).all().all()"
   ]
  },
  {
   "cell_type": "code",
   "execution_count": null,
   "metadata": {},
   "outputs": [],
   "source": [
    "# DataFrame de hucre degerleinin kac kere tekrar ettiklerini bulmak\n",
    "titanic['country'].value_counts().keys().tolist() : sadece hucre degerleri \n",
    "titanic['country'].value_counts().tolist() : sadece kac tane olduklari\n",
    "titanic['country'].value_counts() : hucre degerleri ve kac tane olduklari birlikte"
   ]
  },
  {
   "cell_type": "code",
   "execution_count": null,
   "metadata": {},
   "outputs": [],
   "source": [
    "# Bir degeri tersine cevirmek\n",
    "Basina ~ simgesini koymak yeterli"
   ]
  },
  {
   "cell_type": "code",
   "execution_count": null,
   "metadata": {},
   "outputs": [],
   "source": [
    "# DataFrame dosyasini csv veya xls olarak kaydetmek\n",
    "titanic.to_csv('file_clean.csv', index=False)\n",
    "titanic.to_excel('file_clean.xlsx', index=False)"
   ]
  },
  {
   "cell_type": "code",
   "execution_count": null,
   "metadata": {},
   "outputs": [],
   "source": [
    "# Bir dictionaryi dataframe cevirmek (value ler liste seklinde olmali). \n",
    "# Key ler dataframe lerin sutun isimleri olarak atanacaktir.\n",
    "titanic = pd.DataFrame({\"a\":['1'], 'b':['2']})"
   ]
  },
  {
   "cell_type": "code",
   "execution_count": null,
   "metadata": {},
   "outputs": [],
   "source": [
    "# dataframe de bir sutunun degerlerini grafikte gosterme\n",
    "plt.plot(titanic['tmdbId'].values)\n",
    "plt.show()"
   ]
  },
  {
   "cell_type": "code",
   "execution_count": null,
   "metadata": {},
   "outputs": [],
   "source": [
    "# dataframe de tum sutunlari grafikte gosterme\n",
    "plt.plot(titanic)\n",
    "plt.show()"
   ]
  },
  {
   "cell_type": "code",
   "execution_count": null,
   "metadata": {},
   "outputs": [],
   "source": [
    "# dataframe de x ve y eksenlerine sutun atayarak farkli grafikler cizdirme, baslik, x ve y eksenine isim verme\n",
    "# kind = 'scatter', 'box', 'hist' olabilir\n",
    "titanic.plot(x='imdbId', y='tmdbId', kind='hist')\n",
    "plt.xlabel('x-ekseni')\n",
    "plt.ylabel('y-ekseni')\n",
    "plt.title('Baslik')"
   ]
  },
  {
   "cell_type": "code",
   "execution_count": null,
   "metadata": {},
   "outputs": [],
   "source": [
    "# Sutunlari ayri grafikte gosterme\n",
    "# bunun icin subplots=True  yaoilmasi gerekir\n",
    "titanic[['imdbId', 'tmdbId']].plot(kind='box', subplots=True)\n",
    "plt.show()"
   ]
  },
  {
   "cell_type": "code",
   "execution_count": null,
   "metadata": {},
   "outputs": [],
   "source": [
    "# dataframe de bir sutunu silmek\n",
    "del titanic['yeni']"
   ]
  },
  {
   "cell_type": "code",
   "execution_count": null,
   "metadata": {},
   "outputs": [],
   "source": [
    "# dataframe de sutun isimlerini degistirmek. bu komutta tum sutun isimlerini yazmak gerekir.\n",
    "titanic.columns = ['deneme1', 'title', 'deneme3']"
   ]
  },
  {
   "cell_type": "code",
   "execution_count": null,
   "metadata": {},
   "outputs": [],
   "source": [
    "# csv dosyasini dataframe'e donustururken sutun isimlerini atama\n",
    "col_names = ['year', 'month', 'day', 'dec_date', 'sunspots','definite']\n",
    "titanic = pd.read_csv('C:\\\\Users\\\\ihbay\\\\Desktop\\\\movies.csv', header = None, names=col_names)\n",
    "titanic.iloc[10:20, :] "
   ]
  },
  {
   "cell_type": "code",
   "execution_count": null,
   "metadata": {},
   "outputs": [],
   "source": [
    "# dataframe de bir sutundaki bir degerin kac tane oldugunu bulmak\n",
    "titanic[titanic.origin == 'Asia']"
   ]
  },
  {
   "cell_type": "code",
   "execution_count": null,
   "metadata": {},
   "outputs": [],
   "source": [
    "# dataframe de hangi sutunda kac veri oldugunu ogrenmek\n",
    "titanic.count()"
   ]
  },
  {
   "cell_type": "code",
   "execution_count": null,
   "metadata": {},
   "outputs": [],
   "source": [
    "titanic.iloc['16']"
   ]
  },
  {
   "cell_type": "code",
   "execution_count": null,
   "metadata": {},
   "outputs": [],
   "source": [
    "# zaman serilerinde dosyayi okurken index olarak tarihleri baz alma ve tarihleri belli bor formata sokma. \n",
    "# bu sekilde okundugu takdirde tahihler kullanilarak dataframe her turlu formata sokulabilir\n",
    "\n",
    "titanic = pd.read_csv('C:\\\\Users\\\\ihbay\\\\Desktop\\\\movies.csv', index_col='Date', parse_dates=True)\n",
    "titanic.loc['2010-Aug-01']"
   ]
  },
  {
   "cell_type": "code",
   "execution_count": null,
   "metadata": {},
   "outputs": [],
   "source": [
    "# dataframe de bir sutunda yer alan bir anahtar kelimeyi veya ifadeyi iceren kac deger oldugunu bulmak\n",
    "# ancak sadece string degerler icin gecerli\n",
    "titanic['tmdbId'].str.contains('ware').sum() "
   ]
  },
  {
   "cell_type": "code",
   "execution_count": null,
   "metadata": {},
   "outputs": [],
   "source": [
    "# Convert the 'Date' column into a collection of datetime objects: titanic.Date\n",
    "titanic.Date = pd.to_datetime('Date')"
   ]
  },
  {
   "cell_type": "code",
   "execution_count": null,
   "metadata": {},
   "outputs": [],
   "source": [
    "gapminder = pd.read_csv('gapminder.csv', index_col=['Year','region','Country'] ).sort_index()\n",
    "def spread(series):\n",
    "    return series.max() - series.min()\n",
    "gapminder.groupby(level=['Year', 'region']).agg({'population':'sum', 'child_mortality':'mean', 'gdp':spread})"
   ]
  },
  {
   "cell_type": "code",
   "execution_count": null,
   "metadata": {},
   "outputs": [],
   "source": [
    "titanic.head()"
   ]
  },
  {
   "cell_type": "code",
   "execution_count": null,
   "metadata": {},
   "outputs": [],
   "source": [
    "# dataframe i fonksiyon ve dictionary kullanarak gruplandirma\n",
    "titanic1 = pd.read_csv('C:\\\\Users\\\\ihbay\\\\Desktop\\\\DATA SETS\\\\titanic.csv', index_col=['name', 'sex', 'pclass']).sort_index()\n",
    "def spread(series):\n",
    "    return series.max() - series.min()\n",
    "titanic1.groupby(level=['pclass', 'sex']).agg({'age':'mean', 'survived':'sum', 'fare':spread})"
   ]
  },
  {
   "cell_type": "code",
   "execution_count": null,
   "metadata": {},
   "outputs": [],
   "source": [
    "# bosluklari ortancayi kullanrak dolduran bir fonksiyon yazma\n",
    "def impute_median(series):\n",
    "    return series.fillna(series.median())"
   ]
  },
  {
   "cell_type": "code",
   "execution_count": null,
   "metadata": {},
   "outputs": [],
   "source": [
    "# bir sutunun Nan olan degerlerini o sutunun ortalamasi ile doldurmak\n",
    "titanic['body'].fillna(titanic['body'].mean(), inplace=True)"
   ]
  },
  {
   "cell_type": "code",
   "execution_count": null,
   "metadata": {},
   "outputs": [],
   "source": [
    "# her hangi bir sutunun bir ifadeyi icermesine gore bulup onlarin ortalalmasini, toplamini vs almak\n",
    "titanic.loc[titanic['home.dest'].str.contains('New'), 'age'].mean()"
   ]
  },
  {
   "cell_type": "code",
   "execution_count": null,
   "metadata": {},
   "outputs": [],
   "source": [
    "titanic.fillna(method='pad', inplace=True)"
   ]
  },
  {
   "cell_type": "code",
   "execution_count": null,
   "metadata": {},
   "outputs": [],
   "source": [
    "titanic.info()"
   ]
  },
  {
   "cell_type": "code",
   "execution_count": null,
   "metadata": {},
   "outputs": [],
   "source": [
    "titanic.head()"
   ]
  },
  {
   "cell_type": "code",
   "execution_count": null,
   "metadata": {},
   "outputs": [],
   "source": [
    "# Read the CSV file into a DataFrame: sales\n",
    "sales = pd.read_csv('sales.csv', index_col='Date', parse_dates=True)\n",
    "\n",
    "# Group sales by 'Company': by_company\n",
    "by_company = sales.groupby('Company')\n",
    "\n",
    "# Compute the sum of the 'Units' of by_company: by_com_sum\n",
    "by_com_sum = by_company['Units'].sum()\n",
    "print(by_com_sum)\n",
    "\n",
    "# Filter 'Units' where the sum is > 35: by_com_filt\n",
    "by_com_filt = by_company.filter(lambda g: g['Units'].sum()>35)"
   ]
  },
  {
   "cell_type": "code",
   "execution_count": null,
   "metadata": {},
   "outputs": [],
   "source": [
    "# belli sutun degerlerinin ortalamasi belli bir sayidan buyuk olan satirlari listelemek\n",
    "titanic.groupby('pclass').filter(lambda g: g['age'].mean()>30)"
   ]
  },
  {
   "cell_type": "code",
   "execution_count": null,
   "metadata": {},
   "outputs": [],
   "source": [
    "# yasi 10 un altinda olanlarin kurtulma yuzdesinin ortalamasi \n",
    "titanic.groupby(titanic['age']<10)['survived'].mean()\n",
    "\n",
    "# true / False yerine isimlerini yazamak icin .map() metodu kullanilir\n",
    "titanic.groupby((titanic['age']<10).map({True:'under 10', False:'over 10'}))['survived'].mean()"
   ]
  },
  {
   "cell_type": "code",
   "execution_count": null,
   "metadata": {},
   "outputs": [],
   "source": [
    "medals.loc[medals.NOC == 'USA'].groupby('Edition')['Medal'].count()"
   ]
  },
  {
   "cell_type": "code",
   "execution_count": null,
   "metadata": {},
   "outputs": [],
   "source": [
    "# cinsiyeti erkek olanlarin pclass durumlarina gore toplam kurtulan sayilarini cikarmak\n",
    "titanic.loc[titanic.sex == 'male'].groupby('pclass')['survived'].sum()"
   ]
  },
  {
   "cell_type": "code",
   "execution_count": null,
   "metadata": {},
   "outputs": [],
   "source": [
    "titanic.describe()"
   ]
  },
  {
   "cell_type": "code",
   "execution_count": null,
   "metadata": {},
   "outputs": [],
   "source": [
    "# dataframe deki toplam satir sayisini bulmak\n",
    "len(titanic)"
   ]
  },
  {
   "cell_type": "code",
   "execution_count": null,
   "metadata": {},
   "outputs": [],
   "source": [
    "titanic.reset_index(drop=True) #drop=True dersek eski indeksi silip yenileri getirir"
   ]
  },
  {
   "cell_type": "code",
   "execution_count": null,
   "metadata": {},
   "outputs": [],
   "source": [
    "# dictionary ve dongu kullanarak bir sutunun degerlerini \"isin\" ile kontrol etmek, gruplandirmak ve yeniden adlandirmak\n",
    "replacement = {\n",
    "    'underground floor': ['Kot 1', 'Kot 2', 'Kot 3', 'Yarı Bodrum', 'Bodrum', 'Bodrum ve Zemin'],\n",
    "    'ground floor':['1. Kat', 'Bahçe Katı', 'Giriş Katı', 'Villa Katı', 'Yüksek Giriş', 'Zemin'],\n",
    "    'upper':['10. Kat','11. Kat','12. Kat','13. Kat','14. Kat','15. Kat','16. Kat','17. Kat','18. Kat','19. Kat','20. Kat','21 ve üzeri','2. Kat','3. Kat','4. Kat','5. Kat','6. Kat','7. Kat','8. Kat','9. Kat','Ara Kat'],\n",
    "    'attic':['Çatı Katı','Teras Katı','En Üst Kat']}\n",
    "for k,v in replacement.items():\n",
    "    medal.loc[titanic.floor.isin(v), 'floor'] = k"
   ]
  },
  {
   "cell_type": "code",
   "execution_count": null,
   "metadata": {},
   "outputs": [],
   "source": [
    "# dataframe degerlerini isin ile karsilastirmak. \n",
    "titanic2 = pd.DataFrame({'A': [1, 2, 3], 'B': ['a', 'b', 'f']})\n",
    "other = pd.DataFrame({'A': [1, 3, 3, 2], 'B': ['e', 'f', 'f', 'e']})\n",
    "titanic2.isin(other)"
   ]
  },
  {
   "cell_type": "code",
   "execution_count": null,
   "metadata": {},
   "outputs": [],
   "source": [
    "# We convert this feature to datetime,\n",
    "estate['date'] = pd.to_datetime(estate['date'], format=('%d.%m.%Y'))\n",
    "\n",
    "# data frame de tarih sutununda hangi gunden kac tane oldugunu bulmak\n",
    "estate.date.dt.weekday_name.value_counts()"
   ]
  },
  {
   "cell_type": "code",
   "execution_count": null,
   "metadata": {},
   "outputs": [],
   "source": [
    "# iki tarih arasinda kac gun oldugunu bulmak \n",
    "(estate.date.max()-estate.date.min()).days"
   ]
  },
  {
   "cell_type": "code",
   "execution_count": null,
   "metadata": {},
   "outputs": [],
   "source": [
    "# hangi tarihte kac tane deger oldugunu grafikte gosterme\n",
    "estate.date.value_counts().sort_index().plot()"
   ]
  },
  {
   "cell_type": "code",
   "execution_count": null,
   "metadata": {},
   "outputs": [],
   "source": [
    "estate.drop(estate[(estate['area-m2']<23.98) | (estate['area-m2']>460.6) ].index) "
   ]
  },
  {
   "cell_type": "code",
   "execution_count": null,
   "metadata": {
    "scrolled": true
   },
   "outputs": [],
   "source": [
    "estate['area-m2'].value_counts().sort_index()"
   ]
  },
  {
   "cell_type": "code",
   "execution_count": null,
   "metadata": {},
   "outputs": [],
   "source": [
    "weather1=\n",
    "       Mean TemperatureF\n",
    "Month                   \n",
    "Apr            61.956044\n",
    "Jan            32.133333\n",
    "Jul            68.934783\n",
    "Oct            43.434783\n",
    " \n",
    "# Reindex weather1 using the list year with forward-fill: weather3\n",
    "year=\n",
    "['Jan',\n",
    " 'Feb',\n",
    " 'Mar',\n",
    " 'Apr',\n",
    " 'May',\n",
    " 'Jun',\n",
    " 'Jul',\n",
    " 'Aug',\n",
    " 'Sep',\n",
    " 'Oct',\n",
    " 'Nov',\n",
    " 'Dec']\n",
    "weather2 = weather1.reindex(year).ffill()"
   ]
  },
  {
   "cell_type": "code",
   "execution_count": null,
   "metadata": {},
   "outputs": [],
   "source": [
    "# farkli indexleri olan dataframe leri birbiriyle toplama / ekleme. \n",
    "# fill_value=0  yazilmazsa ortak olmayan satirlarin karsisinda NaN yazacaktir\n",
    "bronze.add(silver, fill_value=0).add(gold, fill_value=0) "
   ]
  },
  {
   "cell_type": "code",
   "execution_count": null,
   "metadata": {},
   "outputs": [],
   "source": [
    "gdp = pd.read_csv('GDP.csv', index_col='DATE', parse_dates=True )\n",
    "gdp:\n",
    "              VALUE\n",
    "DATE               \n",
    "1947-01-01    243.1\n",
    "1947-04-01    246.3\n",
    "1947-07-01    250.1\n",
    "\n",
    "post2008 = gdp['2008':] # index teki 2008 den sonraki satirlari almak"
   ]
  },
  {
   "cell_type": "code",
   "execution_count": null,
   "metadata": {},
   "outputs": [],
   "source": [
    "# dataframe i baska bir data frame ile carpmak. kur hesabi yaparken...\n",
    "sp500 = pd.read_csv('sp500.csv', parse_dates=True, index_col='Date')\n",
    "dollars = sp500[['Open', 'Close']]\n",
    "exchange = pd.read_csv('exchange.csv', parse_dates=True, index_col='Date')\n",
    "pounds = dollars.multiply(exchange['GBP/USD'], axis='rows' )"
   ]
  },
  {
   "cell_type": "code",
   "execution_count": null,
   "metadata": {},
   "outputs": [],
   "source": [
    "titanic.sample(3)"
   ]
  },
  {
   "cell_type": "code",
   "execution_count": null,
   "metadata": {},
   "outputs": [],
   "source": [
    "titanic.corr() # sadece sayisal degerleri karsilastirir, iliskiyi bulmaya calisir"
   ]
  },
  {
   "cell_type": "code",
   "execution_count": null,
   "metadata": {},
   "outputs": [],
   "source": [
    "pp.ProfileReport(estate) # profil raporu alma. sutunlarla ilgili ozet bilgiler."
   ]
  },
  {
   "cell_type": "code",
   "execution_count": null,
   "metadata": {},
   "outputs": [],
   "source": [
    "titanic.isna().sum()"
   ]
  },
  {
   "cell_type": "code",
   "execution_count": null,
   "metadata": {},
   "outputs": [],
   "source": [
    "titanic.fillna('missing') # NaN value ler yerine 'missing' string degerini koyar"
   ]
  },
  {
   "cell_type": "code",
   "execution_count": null,
   "metadata": {},
   "outputs": [],
   "source": [
    "titanic.loc[:, titanic.isnull().any()].head(10) # her hangi bir bos deger bulunan sutunlari listeler."
   ]
  },
  {
   "cell_type": "code",
   "execution_count": null,
   "metadata": {},
   "outputs": [],
   "source": [
    "titanic.loc[:, titanic.notnull().all()].head(10) # tum degerleri dolu olan sutunlari getiriyor"
   ]
  },
  {
   "cell_type": "code",
   "execution_count": null,
   "metadata": {},
   "outputs": [],
   "source": [
    "titanic.pclass.value_counts()"
   ]
  },
  {
   "cell_type": "code",
   "execution_count": null,
   "metadata": {},
   "outputs": [],
   "source": [
    "estate[estate['price']==14.00].count()"
   ]
  },
  {
   "cell_type": "code",
   "execution_count": null,
   "metadata": {},
   "outputs": [],
   "source": [
    "estate.count()\n"
   ]
  },
  {
   "cell_type": "code",
   "execution_count": null,
   "metadata": {},
   "outputs": [],
   "source": [
    "from scipy import stats\n",
    "z = np.abs(stats.zscore(df.area_m2)) #abs mutlak deger demek\n",
    "df.area_m2[(z>3)].count()\n",
    "# According to the z score there are too many outliers. But if we look at the data set,\n",
    "# this is not normal, so we can deal with the outliers as   above."
   ]
  },
  {
   "cell_type": "code",
   "execution_count": null,
   "metadata": {},
   "outputs": [],
   "source": [
    "estate = estate.drop(estate[estate.room == '4+1'].index) # .index metodu satiri silmek icin gerekli"
   ]
  },
  {
   "cell_type": "code",
   "execution_count": null,
   "metadata": {},
   "outputs": [],
   "source": [
    "estate.info()"
   ]
  },
  {
   "cell_type": "code",
   "execution_count": null,
   "metadata": {},
   "outputs": [],
   "source": []
  }
 ],
 "metadata": {
  "kernelspec": {
   "display_name": "Python 3",
   "language": "python",
   "name": "python3"
  },
  "language_info": {
   "codemirror_mode": {
    "name": "ipython",
    "version": 3
   },
   "file_extension": ".py",
   "mimetype": "text/x-python",
   "name": "python",
   "nbconvert_exporter": "python",
   "pygments_lexer": "ipython3",
   "version": "3.7.0"
  }
 },
 "nbformat": 4,
 "nbformat_minor": 2
}
